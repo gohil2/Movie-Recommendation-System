{
 "cells": [
  {
   "cell_type": "code",
   "execution_count": 1,
   "metadata": {},
   "outputs": [],
   "source": [
    "import pandas as pd\n",
    "import os\n",
    "import numpy as np\n",
    "\n",
    "from collections import defaultdict\n",
    "from collections import Counter\n",
    "\n",
    "from surprise import Dataset, evaluate\n",
    "from surprise import KNNBasic\n",
    "from surprise import KNNWithMeans\n",
    "from surprise import Reader\n",
    "from surprise import accuracy,SVD\n",
    "\n",
    "from sklearn.metrics import mean_squared_error\n",
    "from sklearn.metrics import mean_absolute_error\n",
    "from math import sqrt\n",
    "import warnings\n",
    "\n",
    "warnings.filterwarnings('ignore')"
   ]
  },
  {
   "cell_type": "markdown",
   "metadata": {},
   "source": [
    "### Data Prep"
   ]
  },
  {
   "cell_type": "code",
   "execution_count": 2,
   "metadata": {},
   "outputs": [],
   "source": [
    "movie_df=pd.read_csv('.\\ml-1m\\movies.dat', sep='::', skiprows=0, encoding='latin-1',names = [\"MovieID\", \"MovieName\", \"Genres\"])\n",
    "movie_df_genres = movie_df[['MovieID','Genres']]\n",
    "movie_split = movie_df_genres['Genres'].str.split(\"|\")\n",
    "movie_split.index = movie_df.MovieID\n",
    "movie_dict = movie_split.to_dict()"
   ]
  },
  {
   "cell_type": "code",
   "execution_count": 3,
   "metadata": {},
   "outputs": [],
   "source": [
    "rating_df=pd.read_csv('./ml-1m/ratings.dat', sep='::', skiprows=0, encoding='latin-1',names = [\"UserID\", \"MovieID\", \"Rating\",\"Timestamp\"])"
   ]
  },
  {
   "cell_type": "code",
   "execution_count": 4,
   "metadata": {},
   "outputs": [],
   "source": [
    "rating_df = rating_df[[\"UserID\", \"MovieID\", \"Rating\"]]\n",
    "rating_df = rating_df[:50000]"
   ]
  },
  {
   "cell_type": "code",
   "execution_count": 5,
   "metadata": {},
   "outputs": [],
   "source": [
    "### remove 20% data for userid = 1 to test the accuracy \n",
    "#actuals = rating_df[rating_df.UserID == 1]\n",
    "rows = rating_df.sample(n = 500)\n",
    "\n",
    "rating_df = rating_df[~(rating_df.MovieID.isin(rows.MovieID) & rating_df.UserID.isin(rows.UserID))]"
   ]
  },
  {
   "cell_type": "code",
   "execution_count": 6,
   "metadata": {},
   "outputs": [],
   "source": [
    "#REDUCING RATINGS DATASET \n",
    "data = Dataset.load_from_df(rating_df,reader=Reader(rating_scale=(1,5)))"
   ]
  },
  {
   "cell_type": "markdown",
   "metadata": {},
   "source": [
    "### Model Training and Testing"
   ]
  },
  {
   "cell_type": "code",
   "execution_count": 7,
   "metadata": {},
   "outputs": [],
   "source": [
    "trainSet = data.build_full_trainset()"
   ]
  },
  {
   "cell_type": "code",
   "execution_count": 8,
   "metadata": {},
   "outputs": [],
   "source": [
    "trainItems = trainSet.ur.items()"
   ]
  },
  {
   "cell_type": "code",
   "execution_count": 9,
   "metadata": {},
   "outputs": [],
   "source": [
    "trainItems_dict = dict()\n",
    "for k,v in trainItems:\n",
    "    trainItems_dict[k]=v"
   ]
  },
  {
   "cell_type": "code",
   "execution_count": 10,
   "metadata": {},
   "outputs": [],
   "source": [
    "#trainItems_dict #this contains \"internal ids\" as part of surprise package"
   ]
  },
  {
   "cell_type": "code",
   "execution_count": 11,
   "metadata": {},
   "outputs": [],
   "source": [
    "user_profile = dict()\n",
    "for k,v in trainItems_dict.items():\n",
    "    k = trainSet.to_raw_uid(k) #Getting raw ids\n",
    "    user_profile[k] = dict()\n",
    "    temp_genre_list = []\n",
    "    for i in v:\n",
    "        temp_genre_list = movie_dict.get(trainSet.to_raw_iid(i[0])) #Converting to raw id for lookup\n",
    "        for j in temp_genre_list:\n",
    "            if j in user_profile[k].keys():\n",
    "                user_profile[k][j] = (i[1]+user_profile[k][j])/2\n",
    "            else:\n",
    "                user_profile[k][j] = i[1]"
   ]
  },
  {
   "cell_type": "code",
   "execution_count": 15,
   "metadata": {},
   "outputs": [],
   "source": [
    "options = {'name':'pearson', 'user_based': False}\n",
    "knn_model = KNNBasic(sim_options=options)"
   ]
  },
  {
   "cell_type": "code",
   "execution_count": 16,
   "metadata": {},
   "outputs": [
    {
     "name": "stdout",
     "output_type": "stream",
     "text": [
      "Computing the pearson similarity matrix...\n",
      "Done computing similarity matrix.\n"
     ]
    },
    {
     "data": {
      "text/plain": [
       "<surprise.prediction_algorithms.knns.KNNBasic at 0x242c0231c18>"
      ]
     },
     "execution_count": 16,
     "metadata": {},
     "output_type": "execute_result"
    }
   ],
   "source": [
    "knn_model.train(trainSet)"
   ]
  },
  {
   "cell_type": "code",
   "execution_count": 17,
   "metadata": {},
   "outputs": [],
   "source": [
    "testset = trainSet.build_anti_testset()"
   ]
  },
  {
   "cell_type": "code",
   "execution_count": 18,
   "metadata": {},
   "outputs": [],
   "source": [
    "predict = knn_model.test(testset)"
   ]
  },
  {
   "cell_type": "markdown",
   "metadata": {},
   "source": [
    "### Preparing Result Set"
   ]
  },
  {
   "cell_type": "code",
   "execution_count": 20,
   "metadata": {},
   "outputs": [],
   "source": [
    "predicted_dict = dict()\n",
    "for i in predict:\n",
    "    if i[0] in predicted_dict.keys():\n",
    "        predicted_dict[i[0]].update({i[1]:i[3]})\n",
    "    else:\n",
    "        predicted_dict[i[0]] = dict()\n",
    "        predicted_dict[i[0]] = {i[1]:i[3]}"
   ]
  },
  {
   "cell_type": "code",
   "execution_count": 21,
   "metadata": {},
   "outputs": [],
   "source": [
    "def get_genre_score(uid,mid):\n",
    "    \"\"\"\n",
    "    Input: UserID uid and MovieID mid\n",
    "    Output: Genre score of that users predicted movie\n",
    "    Note:Passes mid to movie_dict and returns list of generes in that movie. Averages the genre values of the returned genres\n",
    "    from users' genre based profile\n",
    "    \"\"\"\n",
    "    temp_avg = 0\n",
    "    for i in movie_dict.get(mid,'NA'):  #adding condition to check if movie exists in movie_dict\n",
    "        if i != 'NA':\n",
    "            temp_avg = (temp_avg+user_profile[uid].get(i,temp_avg))/2   \n",
    "    return temp_avg"
   ]
  },
  {
   "cell_type": "code",
   "execution_count": 22,
   "metadata": {},
   "outputs": [],
   "source": [
    "#test_user1 = 1\n",
    "adjusted_predict = list()\n",
    "for test_user1 in user_profile.keys():\n",
    "    for k,v in predicted_dict[test_user1].items():\n",
    "        adjusted_predict.append([test_user1,k,v,((0.8*v)+(0.2*get_genre_score(test_user1,k))),0])\n"
   ]
  },
  {
   "cell_type": "code",
   "execution_count": 23,
   "metadata": {},
   "outputs": [],
   "source": [
    "def get_top3_recs(predict, N = 3):\n",
    "    top3_recs = defaultdict(list)\n",
    "    for uid, iid, true_r, est, _ in predict:\n",
    "        top3_recs[uid].append((iid, est))\n",
    "     \n",
    "    for uid, user_ratings in top3_recs.items():\n",
    "        user_ratings.sort(key = lambda x: x[1], reverse = True)\n",
    "        top3_recs[uid] = user_ratings[:N]\n",
    "     \n",
    "    return top3_recs"
   ]
  },
  {
   "cell_type": "code",
   "execution_count": 24,
   "metadata": {},
   "outputs": [],
   "source": [
    "movie_recommendations = get_top3_recs(predict) #Without User Profiles"
   ]
  },
  {
   "cell_type": "code",
   "execution_count": 25,
   "metadata": {},
   "outputs": [],
   "source": [
    "movie_recommendations_profiled = get_top3_recs(adjusted_predict) #With User Profiles"
   ]
  },
  {
   "cell_type": "markdown",
   "metadata": {},
   "source": [
    "### Validation and Results"
   ]
  },
  {
   "cell_type": "markdown",
   "metadata": {},
   "source": [
    "Method 1 : using Surprise package methods"
   ]
  },
  {
   "cell_type": "code",
   "execution_count": 27,
   "metadata": {},
   "outputs": [
    {
     "name": "stdout",
     "output_type": "stream",
     "text": [
      "RMSE: 0.3386\n"
     ]
    }
   ],
   "source": [
    "algo = SVD()\n",
    "accuracy.rmse(adjusted_predict)\n",
    "\n",
    "algo.fit(trainSet)\n",
    "svd_predictions = algo.test(testset)"
   ]
  },
  {
   "cell_type": "code",
   "execution_count": 28,
   "metadata": {},
   "outputs": [
    {
     "name": "stdout",
     "output_type": "stream",
     "text": [
      "RMSE: 0.4996\n"
     ]
    },
    {
     "data": {
      "text/plain": [
       "0.49963746220394617"
      ]
     },
     "execution_count": 28,
     "metadata": {},
     "output_type": "execute_result"
    }
   ],
   "source": [
    "accuracy.rmse(svd_predictions)"
   ]
  },
  {
   "cell_type": "markdown",
   "metadata": {},
   "source": [
    "Method 2 : using manually created Validation dataframe"
   ]
  },
  {
   "cell_type": "code",
   "execution_count": 29,
   "metadata": {},
   "outputs": [],
   "source": [
    "validation_df = pd.DataFrame(data = adjusted_predict)\n",
    "validation_df.columns = ['UserID','MovieID','Original_estimation','New_estimation','Null']\n",
    "validation_df = validation_df[['UserID','MovieID','New_estimation']]\n",
    "validation_df.columns = ['UserID','MovieID','Rating']"
   ]
  },
  {
   "cell_type": "code",
   "execution_count": 30,
   "metadata": {},
   "outputs": [],
   "source": [
    "same_records = validation_df.merge(rows, how=\"inner\",left_on = [\"MovieID\",\"UserID\"], right_on = [\"MovieID\",\"UserID\"])"
   ]
  },
  {
   "cell_type": "code",
   "execution_count": 41,
   "metadata": {},
   "outputs": [],
   "source": [
    "original_validation_df = pd.DataFrame(data = predict)\n",
    "original_validation_df.columns = ['UserID','MovieID','Original','New_estimation','Null']\n",
    "original_validation_df = original_validation_df[['UserID','MovieID','New_estimation']]\n",
    "original_validation_df.columns = ['UserID','MovieID','Rating']"
   ]
  },
  {
   "cell_type": "code",
   "execution_count": 32,
   "metadata": {},
   "outputs": [],
   "source": [
    "original_validation_df = original_validation_df.merge(rows, how=\"inner\",left_on = [\"MovieID\",\"UserID\"], right_on = [\"MovieID\",\"UserID\"])"
   ]
  },
  {
   "cell_type": "code",
   "execution_count": 33,
   "metadata": {},
   "outputs": [
    {
     "name": "stdout",
     "output_type": "stream",
     "text": [
      "1.157924779730421 0.92397273206342\n"
     ]
    }
   ],
   "source": [
    "#### original ###\n",
    "rms = sqrt(mean_squared_error(original_validation_df.Rating_y, original_validation_df.Rating_x))\n",
    "mae = mean_absolute_error(original_validation_df.Rating_y, original_validation_df.Rating_x)\n",
    "print(rms,mae)\n"
   ]
  },
  {
   "cell_type": "code",
   "execution_count": 34,
   "metadata": {},
   "outputs": [
    {
     "name": "stdout",
     "output_type": "stream",
     "text": [
      "1.1306007812831638 0.9173148622382078\n"
     ]
    }
   ],
   "source": [
    "## user profile ##\n",
    "rms = sqrt(mean_squared_error(same_records.Rating_y, same_records.Rating_x))\n",
    "mae = mean_absolute_error(same_records.Rating_y, same_records.Rating_x)\n",
    "print(rms,mae)"
   ]
  },
  {
   "cell_type": "markdown",
   "metadata": {},
   "source": [
    "Results"
   ]
  },
  {
   "cell_type": "code",
   "execution_count": 36,
   "metadata": {},
   "outputs": [],
   "source": [
    "def movie_print(u,m):\n",
    "    c = Counter(user_profile[u]).most_common(3)\n",
    "    print(\"Users preferred genre are \",c)\n",
    "    for i in m:\n",
    "        print(\"Top recommended movie\", movie_df[movie_df.MovieID == i[0]])"
   ]
  },
  {
   "cell_type": "code",
   "execution_count": 37,
   "metadata": {},
   "outputs": [
    {
     "name": "stdout",
     "output_type": "stream",
     "text": [
      "Users preferred genre are  [('Drama', 5.0), ('Western', 5.0), ('Action', 4.625)]\n",
      "Top recommended movie       MovieID         MovieName  Genres\n",
      "2722     2791  Airplane! (1980)  Comedy\n",
      "Top recommended movie       MovieID                  MovieName         Genres\n",
      "1250     1270  Back to the Future (1985)  Comedy|Sci-Fi\n",
      "Top recommended movie       MovieID       MovieName         Genres\n",
      "1672     1721  Titanic (1997)  Drama|Romance\n"
     ]
    }
   ],
   "source": [
    "movie_print(4,movie_recommendations[4])"
   ]
  },
  {
   "cell_type": "code",
   "execution_count": 38,
   "metadata": {},
   "outputs": [
    {
     "name": "stdout",
     "output_type": "stream",
     "text": [
      "Users preferred genre are  [('Drama', 5.0), ('Western', 5.0), ('Action', 4.625)]\n",
      "Top recommended movie      MovieID                  MovieName                   Genres\n",
      "586      590  Dances with Wolves (1990)  Adventure|Drama|Western\n",
      "Top recommended movie      MovieID      MovieName                        Genres\n",
      "588      592  Batman (1989)  Action|Adventure|Crime|Drama\n",
      "Top recommended movie      MovieID                       MovieName                    Genres\n",
      "300      303  Quick and the Dead, The (1995)  Action|Adventure|Western\n"
     ]
    }
   ],
   "source": [
    "movie_print(4,movie_recommendations_profiled[4])"
   ]
  },
  {
   "cell_type": "code",
   "execution_count": 39,
   "metadata": {
    "scrolled": true
   },
   "outputs": [
    {
     "data": {
      "text/html": [
       "<div>\n",
       "<style scoped>\n",
       "    .dataframe tbody tr th:only-of-type {\n",
       "        vertical-align: middle;\n",
       "    }\n",
       "\n",
       "    .dataframe tbody tr th {\n",
       "        vertical-align: top;\n",
       "    }\n",
       "\n",
       "    .dataframe thead th {\n",
       "        text-align: right;\n",
       "    }\n",
       "</style>\n",
       "<table border=\"1\" class=\"dataframe\">\n",
       "  <thead>\n",
       "    <tr style=\"text-align: right;\">\n",
       "      <th></th>\n",
       "      <th>UserID</th>\n",
       "      <th>MovieID</th>\n",
       "      <th>Rating</th>\n",
       "    </tr>\n",
       "  </thead>\n",
       "  <tbody>\n",
       "    <tr>\n",
       "      <th>182</th>\n",
       "      <td>3</td>\n",
       "      <td>3421</td>\n",
       "      <td>4</td>\n",
       "    </tr>\n",
       "    <tr>\n",
       "      <th>183</th>\n",
       "      <td>3</td>\n",
       "      <td>1641</td>\n",
       "      <td>2</td>\n",
       "    </tr>\n",
       "    <tr>\n",
       "      <th>184</th>\n",
       "      <td>3</td>\n",
       "      <td>648</td>\n",
       "      <td>3</td>\n",
       "    </tr>\n",
       "    <tr>\n",
       "      <th>185</th>\n",
       "      <td>3</td>\n",
       "      <td>1394</td>\n",
       "      <td>4</td>\n",
       "    </tr>\n",
       "    <tr>\n",
       "      <th>186</th>\n",
       "      <td>3</td>\n",
       "      <td>3534</td>\n",
       "      <td>3</td>\n",
       "    </tr>\n",
       "    <tr>\n",
       "      <th>187</th>\n",
       "      <td>3</td>\n",
       "      <td>104</td>\n",
       "      <td>4</td>\n",
       "    </tr>\n",
       "    <tr>\n",
       "      <th>188</th>\n",
       "      <td>3</td>\n",
       "      <td>2735</td>\n",
       "      <td>4</td>\n",
       "    </tr>\n",
       "    <tr>\n",
       "      <th>189</th>\n",
       "      <td>3</td>\n",
       "      <td>1210</td>\n",
       "      <td>4</td>\n",
       "    </tr>\n",
       "    <tr>\n",
       "      <th>190</th>\n",
       "      <td>3</td>\n",
       "      <td>1431</td>\n",
       "      <td>3</td>\n",
       "    </tr>\n",
       "    <tr>\n",
       "      <th>191</th>\n",
       "      <td>3</td>\n",
       "      <td>3868</td>\n",
       "      <td>3</td>\n",
       "    </tr>\n",
       "    <tr>\n",
       "      <th>192</th>\n",
       "      <td>3</td>\n",
       "      <td>1079</td>\n",
       "      <td>5</td>\n",
       "    </tr>\n",
       "    <tr>\n",
       "      <th>193</th>\n",
       "      <td>3</td>\n",
       "      <td>2997</td>\n",
       "      <td>3</td>\n",
       "    </tr>\n",
       "    <tr>\n",
       "      <th>194</th>\n",
       "      <td>3</td>\n",
       "      <td>1615</td>\n",
       "      <td>5</td>\n",
       "    </tr>\n",
       "    <tr>\n",
       "      <th>195</th>\n",
       "      <td>3</td>\n",
       "      <td>1291</td>\n",
       "      <td>4</td>\n",
       "    </tr>\n",
       "    <tr>\n",
       "      <th>196</th>\n",
       "      <td>3</td>\n",
       "      <td>1259</td>\n",
       "      <td>5</td>\n",
       "    </tr>\n",
       "    <tr>\n",
       "      <th>197</th>\n",
       "      <td>3</td>\n",
       "      <td>653</td>\n",
       "      <td>4</td>\n",
       "    </tr>\n",
       "    <tr>\n",
       "      <th>198</th>\n",
       "      <td>3</td>\n",
       "      <td>2167</td>\n",
       "      <td>5</td>\n",
       "    </tr>\n",
       "    <tr>\n",
       "      <th>199</th>\n",
       "      <td>3</td>\n",
       "      <td>1580</td>\n",
       "      <td>3</td>\n",
       "    </tr>\n",
       "    <tr>\n",
       "      <th>200</th>\n",
       "      <td>3</td>\n",
       "      <td>3619</td>\n",
       "      <td>2</td>\n",
       "    </tr>\n",
       "    <tr>\n",
       "      <th>201</th>\n",
       "      <td>3</td>\n",
       "      <td>260</td>\n",
       "      <td>5</td>\n",
       "    </tr>\n",
       "    <tr>\n",
       "      <th>202</th>\n",
       "      <td>3</td>\n",
       "      <td>2858</td>\n",
       "      <td>4</td>\n",
       "    </tr>\n",
       "    <tr>\n",
       "      <th>203</th>\n",
       "      <td>3</td>\n",
       "      <td>3114</td>\n",
       "      <td>3</td>\n",
       "    </tr>\n",
       "    <tr>\n",
       "      <th>204</th>\n",
       "      <td>3</td>\n",
       "      <td>1049</td>\n",
       "      <td>4</td>\n",
       "    </tr>\n",
       "    <tr>\n",
       "      <th>205</th>\n",
       "      <td>3</td>\n",
       "      <td>1261</td>\n",
       "      <td>1</td>\n",
       "    </tr>\n",
       "    <tr>\n",
       "      <th>206</th>\n",
       "      <td>3</td>\n",
       "      <td>552</td>\n",
       "      <td>4</td>\n",
       "    </tr>\n",
       "    <tr>\n",
       "      <th>207</th>\n",
       "      <td>3</td>\n",
       "      <td>480</td>\n",
       "      <td>4</td>\n",
       "    </tr>\n",
       "    <tr>\n",
       "      <th>208</th>\n",
       "      <td>3</td>\n",
       "      <td>1265</td>\n",
       "      <td>2</td>\n",
       "    </tr>\n",
       "    <tr>\n",
       "      <th>209</th>\n",
       "      <td>3</td>\n",
       "      <td>1266</td>\n",
       "      <td>5</td>\n",
       "    </tr>\n",
       "    <tr>\n",
       "      <th>210</th>\n",
       "      <td>3</td>\n",
       "      <td>733</td>\n",
       "      <td>5</td>\n",
       "    </tr>\n",
       "    <tr>\n",
       "      <th>211</th>\n",
       "      <td>3</td>\n",
       "      <td>1196</td>\n",
       "      <td>4</td>\n",
       "    </tr>\n",
       "    <tr>\n",
       "      <th>212</th>\n",
       "      <td>3</td>\n",
       "      <td>590</td>\n",
       "      <td>4</td>\n",
       "    </tr>\n",
       "    <tr>\n",
       "      <th>213</th>\n",
       "      <td>3</td>\n",
       "      <td>2355</td>\n",
       "      <td>5</td>\n",
       "    </tr>\n",
       "    <tr>\n",
       "      <th>214</th>\n",
       "      <td>3</td>\n",
       "      <td>1197</td>\n",
       "      <td>5</td>\n",
       "    </tr>\n",
       "    <tr>\n",
       "      <th>215</th>\n",
       "      <td>3</td>\n",
       "      <td>1198</td>\n",
       "      <td>5</td>\n",
       "    </tr>\n",
       "    <tr>\n",
       "      <th>216</th>\n",
       "      <td>3</td>\n",
       "      <td>1378</td>\n",
       "      <td>5</td>\n",
       "    </tr>\n",
       "    <tr>\n",
       "      <th>217</th>\n",
       "      <td>3</td>\n",
       "      <td>593</td>\n",
       "      <td>3</td>\n",
       "    </tr>\n",
       "    <tr>\n",
       "      <th>218</th>\n",
       "      <td>3</td>\n",
       "      <td>1379</td>\n",
       "      <td>4</td>\n",
       "    </tr>\n",
       "    <tr>\n",
       "      <th>219</th>\n",
       "      <td>3</td>\n",
       "      <td>3552</td>\n",
       "      <td>5</td>\n",
       "    </tr>\n",
       "    <tr>\n",
       "      <th>220</th>\n",
       "      <td>3</td>\n",
       "      <td>1304</td>\n",
       "      <td>5</td>\n",
       "    </tr>\n",
       "    <tr>\n",
       "      <th>221</th>\n",
       "      <td>3</td>\n",
       "      <td>1270</td>\n",
       "      <td>3</td>\n",
       "    </tr>\n",
       "    <tr>\n",
       "      <th>222</th>\n",
       "      <td>3</td>\n",
       "      <td>2470</td>\n",
       "      <td>4</td>\n",
       "    </tr>\n",
       "    <tr>\n",
       "      <th>223</th>\n",
       "      <td>3</td>\n",
       "      <td>3168</td>\n",
       "      <td>4</td>\n",
       "    </tr>\n",
       "    <tr>\n",
       "      <th>224</th>\n",
       "      <td>3</td>\n",
       "      <td>2617</td>\n",
       "      <td>2</td>\n",
       "    </tr>\n",
       "    <tr>\n",
       "      <th>225</th>\n",
       "      <td>3</td>\n",
       "      <td>1961</td>\n",
       "      <td>4</td>\n",
       "    </tr>\n",
       "    <tr>\n",
       "      <th>226</th>\n",
       "      <td>3</td>\n",
       "      <td>3671</td>\n",
       "      <td>5</td>\n",
       "    </tr>\n",
       "    <tr>\n",
       "      <th>227</th>\n",
       "      <td>3</td>\n",
       "      <td>2006</td>\n",
       "      <td>4</td>\n",
       "    </tr>\n",
       "    <tr>\n",
       "      <th>228</th>\n",
       "      <td>3</td>\n",
       "      <td>2871</td>\n",
       "      <td>4</td>\n",
       "    </tr>\n",
       "    <tr>\n",
       "      <th>229</th>\n",
       "      <td>3</td>\n",
       "      <td>2115</td>\n",
       "      <td>4</td>\n",
       "    </tr>\n",
       "    <tr>\n",
       "      <th>230</th>\n",
       "      <td>3</td>\n",
       "      <td>1968</td>\n",
       "      <td>4</td>\n",
       "    </tr>\n",
       "    <tr>\n",
       "      <th>231</th>\n",
       "      <td>3</td>\n",
       "      <td>1136</td>\n",
       "      <td>5</td>\n",
       "    </tr>\n",
       "    <tr>\n",
       "      <th>232</th>\n",
       "      <td>3</td>\n",
       "      <td>2081</td>\n",
       "      <td>4</td>\n",
       "    </tr>\n",
       "  </tbody>\n",
       "</table>\n",
       "</div>"
      ],
      "text/plain": [
       "     UserID  MovieID  Rating\n",
       "182       3     3421       4\n",
       "183       3     1641       2\n",
       "184       3      648       3\n",
       "185       3     1394       4\n",
       "186       3     3534       3\n",
       "187       3      104       4\n",
       "188       3     2735       4\n",
       "189       3     1210       4\n",
       "190       3     1431       3\n",
       "191       3     3868       3\n",
       "192       3     1079       5\n",
       "193       3     2997       3\n",
       "194       3     1615       5\n",
       "195       3     1291       4\n",
       "196       3     1259       5\n",
       "197       3      653       4\n",
       "198       3     2167       5\n",
       "199       3     1580       3\n",
       "200       3     3619       2\n",
       "201       3      260       5\n",
       "202       3     2858       4\n",
       "203       3     3114       3\n",
       "204       3     1049       4\n",
       "205       3     1261       1\n",
       "206       3      552       4\n",
       "207       3      480       4\n",
       "208       3     1265       2\n",
       "209       3     1266       5\n",
       "210       3      733       5\n",
       "211       3     1196       4\n",
       "212       3      590       4\n",
       "213       3     2355       5\n",
       "214       3     1197       5\n",
       "215       3     1198       5\n",
       "216       3     1378       5\n",
       "217       3      593       3\n",
       "218       3     1379       4\n",
       "219       3     3552       5\n",
       "220       3     1304       5\n",
       "221       3     1270       3\n",
       "222       3     2470       4\n",
       "223       3     3168       4\n",
       "224       3     2617       2\n",
       "225       3     1961       4\n",
       "226       3     3671       5\n",
       "227       3     2006       4\n",
       "228       3     2871       4\n",
       "229       3     2115       4\n",
       "230       3     1968       4\n",
       "231       3     1136       5\n",
       "232       3     2081       4"
      ]
     },
     "execution_count": 39,
     "metadata": {},
     "output_type": "execute_result"
    }
   ],
   "source": [
    "rating_df[rating_df.UserID==3]"
   ]
  }
 ],
 "metadata": {
  "kernelspec": {
   "display_name": "Python 3",
   "language": "python",
   "name": "python3"
  },
  "language_info": {
   "codemirror_mode": {
    "name": "ipython",
    "version": 3
   },
   "file_extension": ".py",
   "mimetype": "text/x-python",
   "name": "python",
   "nbconvert_exporter": "python",
   "pygments_lexer": "ipython3",
   "version": "3.6.5"
  }
 },
 "nbformat": 4,
 "nbformat_minor": 2
}
